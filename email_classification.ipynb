{
 "cells": [
  {
   "cell_type": "code",
   "execution_count": 1,
   "id": "c6ef3b32-8514-4733-853f-a62ebd47c784",
   "metadata": {},
   "outputs": [],
   "source": [
    "import nltk\n",
    "import pandas as pd\n",
    "from sklearn.naive_bayes import MultinomialNB\n",
    "from sklearn.feature_extraction.text import CountVectorizer\n",
    "from sklearn.feature_extraction.text import TfidfTransformer\n",
    "from sklearn.metrics import accuracy_score\n",
    "from nltk.corpus import stopwords\n",
    "from sklearn import preprocessing\n",
    "from sklearn.model_selection import train_test_split as tts"
   ]
  },
  {
   "cell_type": "markdown",
   "id": "efa29e89-b699-4552-9dad-ecbefffa62d6",
   "metadata": {},
   "source": [
    "Load Data and pick through the data\n"
   ]
  },
  {
   "cell_type": "code",
   "execution_count": 18,
   "id": "5cfd62e2-3e50-4283-b5a7-2e0a1f39e6dc",
   "metadata": {},
   "outputs": [
    {
     "data": {
      "text/html": [
       "<div>\n",
       "<style scoped>\n",
       "    .dataframe tbody tr th:only-of-type {\n",
       "        vertical-align: middle;\n",
       "    }\n",
       "\n",
       "    .dataframe tbody tr th {\n",
       "        vertical-align: top;\n",
       "    }\n",
       "\n",
       "    .dataframe thead th {\n",
       "        text-align: right;\n",
       "    }\n",
       "</style>\n",
       "<table border=\"1\" class=\"dataframe\">\n",
       "  <thead>\n",
       "    <tr style=\"text-align: right;\">\n",
       "      <th></th>\n",
       "      <th>class</th>\n",
       "      <th>emails</th>\n",
       "    </tr>\n",
       "  </thead>\n",
       "  <tbody>\n",
       "    <tr>\n",
       "      <th>0</th>\n",
       "      <td>ham</td>\n",
       "      <td>Go until jurong point, crazy.. Available only ...</td>\n",
       "    </tr>\n",
       "    <tr>\n",
       "      <th>1</th>\n",
       "      <td>ham</td>\n",
       "      <td>Ok lar... Joking wif u oni...</td>\n",
       "    </tr>\n",
       "    <tr>\n",
       "      <th>2</th>\n",
       "      <td>spam</td>\n",
       "      <td>Free entry in 2 a wkly comp to win FA Cup fina...</td>\n",
       "    </tr>\n",
       "    <tr>\n",
       "      <th>3</th>\n",
       "      <td>ham</td>\n",
       "      <td>U dun say so early hor... U c already then say...</td>\n",
       "    </tr>\n",
       "    <tr>\n",
       "      <th>4</th>\n",
       "      <td>ham</td>\n",
       "      <td>Nah I don't think he goes to usf, he lives aro...</td>\n",
       "    </tr>\n",
       "  </tbody>\n",
       "</table>\n",
       "</div>"
      ],
      "text/plain": [
       "  class                                             emails\n",
       "0   ham  Go until jurong point, crazy.. Available only ...\n",
       "1   ham                      Ok lar... Joking wif u oni...\n",
       "2  spam  Free entry in 2 a wkly comp to win FA Cup fina...\n",
       "3   ham  U dun say so early hor... U c already then say...\n",
       "4   ham  Nah I don't think he goes to usf, he lives aro..."
      ]
     },
     "execution_count": 18,
     "metadata": {},
     "output_type": "execute_result"
    }
   ],
   "source": [
    "email_data = pd.read_csv('data/spam.csv',encoding = 'latin1',usecols = ['class','emails'],names = ['class','emails'] ,skiprows = [0])\n",
    "email_data.head()"
   ]
  },
  {
   "cell_type": "markdown",
   "id": "6c78cff2-9fec-4e43-8600-b844a8063e31",
   "metadata": {},
   "source": [
    "Check for null values if any"
   ]
  },
  {
   "cell_type": "code",
   "execution_count": 19,
   "id": "98a86fac-9fa1-4652-befe-0bff85a87e8c",
   "metadata": {},
   "outputs": [
    {
     "data": {
      "text/plain": [
       "class     0\n",
       "emails    0\n",
       "dtype: int64"
      ]
     },
     "execution_count": 19,
     "metadata": {},
     "output_type": "execute_result"
    }
   ],
   "source": [
    "email_data.isna().sum()"
   ]
  },
  {
   "cell_type": "markdown",
   "id": "01d5329c-ae0b-40ef-8645-6f5fce6b4a43",
   "metadata": {},
   "source": [
    "convert class column from categorial to numerical and put it in Y"
   ]
  },
  {
   "cell_type": "code",
   "execution_count": 20,
   "id": "43c129b2-2f86-44cd-8730-e991aa9a8449",
   "metadata": {},
   "outputs": [
    {
     "data": {
      "text/plain": [
       "0    0\n",
       "1    0\n",
       "2    1\n",
       "3    0\n",
       "4    0\n",
       "Name: class, dtype: int64"
      ]
     },
     "execution_count": 20,
     "metadata": {},
     "output_type": "execute_result"
    }
   ],
   "source": [
    "Y = email_data['class'].map({'ham':0,'spam':1})\n",
    "X = email_data['emails']\n",
    "Y.head()"
   ]
  },
  {
   "cell_type": "markdown",
   "id": "62ac5d74-e72d-4c86-99a0-6ed62f468c90",
   "metadata": {},
   "source": [
    "split data into training and testing"
   ]
  },
  {
   "cell_type": "code",
   "execution_count": 21,
   "id": "61d195c5-7712-41ab-a6e1-a1e574212a30",
   "metadata": {},
   "outputs": [
    {
     "data": {
      "text/plain": [
       "'Ok lar... Joking wif u oni...'"
      ]
     },
     "execution_count": 21,
     "metadata": {},
     "output_type": "execute_result"
    }
   ],
   "source": [
    "x_train,x_test,y_train,y_test =tts(X,Y,test_size = 0.3) \n",
    "x_train[1]"
   ]
  },
  {
   "cell_type": "markdown",
   "id": "a189c680-4bef-439c-8618-dfd970ebf72c",
   "metadata": {},
   "source": [
    "A Function that prepares the data using natural language techniques"
   ]
  },
  {
   "cell_type": "code",
   "execution_count": 22,
   "id": "e0df4d6a-3f33-42d9-a112-c4e58e35f2b2",
   "metadata": {},
   "outputs": [],
   "source": [
    "def dataProcessing(raw_data):\n",
    "    stop_words = set(stopwords.words('english'))\n",
    "    clean_data = []\n",
    "    for row in raw_data:\n",
    "        tokens = nltk.word_tokenize(row)\n",
    "        prt = nltk.PorterStemmer()\n",
    "        stems = []\n",
    "        for token in tokens:\n",
    "            if token not in stop_words:\n",
    "                if token.isalnum() == True:\n",
    "                    stems.append(token)\n",
    "        sent = ' '.join(stems)\n",
    "        clean_data.append(sent)\n",
    "    return clean_data"
   ]
  },
  {
   "cell_type": "markdown",
   "id": "6c8248a7-ef4a-4d12-a4cd-886a3229edba",
   "metadata": {},
   "source": [
    "Prepare the data using dataProcessing function"
   ]
  },
  {
   "cell_type": "code",
   "execution_count": 23,
   "id": "67e3ea04-ed18-468e-ad2a-9e83b6d1f601",
   "metadata": {},
   "outputs": [],
   "source": [
    "x_train = dataProcessing(x_train)\n",
    "x_test = dataProcessing(x_test)"
   ]
  },
  {
   "cell_type": "markdown",
   "id": "a6213277-63a9-4a05-a7c6-c2f69cf979c6",
   "metadata": {},
   "source": [
    "A function that extracts topics and returns tfidf structure for model use"
   ]
  },
  {
   "cell_type": "code",
   "execution_count": 24,
   "id": "a14b7d24-a943-4011-b3b7-c705f46c6476",
   "metadata": {},
   "outputs": [],
   "source": [
    "vectorizer = CountVectorizer()\n",
    "vectorizer.fit(x_train)\n",
    "count_data = vectorizer.transform(x_train)\n",
    "tfidf_model = TfidfTransformer()\n",
    "tfidf_model.fit(count_data)\n",
    "def topicExtracter(text_data):\n",
    "    count_data = vectorizer.transform(text_data)\n",
    "    return tfidf_model.transform(count_data)"
   ]
  },
  {
   "cell_type": "code",
   "execution_count": 25,
   "id": "599403d1-8e30-4958-a6ce-626aef014d3c",
   "metadata": {},
   "outputs": [
    {
     "name": "stdout",
     "output_type": "stream",
     "text": [
      "(3900, 6771)\n",
      "(1672, 6771)\n"
     ]
    }
   ],
   "source": [
    "x_train = topicExtracter(x_train)\n",
    "x_test =topicExtracter(x_test)\n",
    "print(x_train.shape)\n",
    "print(x_test.shape)"
   ]
  },
  {
   "cell_type": "markdown",
   "id": "115121bd-d607-4cc2-9241-c5ad3b2c10f4",
   "metadata": {},
   "source": [
    "Build and fit model"
   ]
  },
  {
   "cell_type": "code",
   "execution_count": 26,
   "id": "3c240cc6-d34a-445e-b834-281de3f5c26f",
   "metadata": {},
   "outputs": [
    {
     "data": {
      "text/plain": [
       "MultinomialNB()"
      ]
     },
     "execution_count": 26,
     "metadata": {},
     "output_type": "execute_result"
    }
   ],
   "source": [
    "model = MultinomialNB()\n",
    "model.fit(x_train,y_train)"
   ]
  },
  {
   "cell_type": "markdown",
   "id": "78807947-1fb9-4e40-9e77-a4f89739bc59",
   "metadata": {},
   "source": [
    "Test model Perfomance on test data"
   ]
  },
  {
   "cell_type": "code",
   "execution_count": 27,
   "id": "9a945f34-6b1b-40ce-8737-4188ac4e1c04",
   "metadata": {},
   "outputs": [
    {
     "name": "stdout",
     "output_type": "stream",
     "text": [
      "Accuracy :95.993%\n"
     ]
    }
   ],
   "source": [
    "y_pred = model.predict(x_test)\n",
    "print('Accuracy :{:.3f}%'.format(accuracy_score(y_test,y_pred) * 100))\n"
   ]
  },
  {
   "cell_type": "markdown",
   "id": "1700fc27-05ee-4661-b115-7abbf5a367f9",
   "metadata": {},
   "source": [
    "Program to Predict the Email to spam or ham"
   ]
  },
  {
   "cell_type": "code",
   "execution_count": 28,
   "id": "99627580-c336-4bc8-b590-f154f4803845",
   "metadata": {},
   "outputs": [],
   "source": [
    "def classifyEmail(email_list):\n",
    "    classes = ['ham','spam']\n",
    "    x_pred = dataProcessing(email_list)\n",
    "    x_pred = topicExtracter(x_pred)\n",
    "    y_pred = model.predict(x_pred)\n",
    "    return classes[y_pred[0]]\n"
   ]
  },
  {
   "cell_type": "code",
   "execution_count": 30,
   "id": "d7e3303c-9bfb-4f01-a963-460de4c706f2",
   "metadata": {},
   "outputs": [
    {
     "data": {
      "text/plain": [
       "'ham'"
      ]
     },
     "execution_count": 30,
     "metadata": {},
     "output_type": "execute_result"
    }
   ],
   "source": [
    "y_pred = classifyEmail(list([\"Smile in Pleasure Smile in Pain Smile when trouble pours like Rain Smile when sum1 Hurts U Smile becoz SOMEONE still Loves to see u Smiling!!\"]))\n",
    "y_pred"
   ]
  },
  {
   "cell_type": "code",
   "execution_count": null,
   "id": "1678d735-1a3c-4c41-bb34-accede39f08c",
   "metadata": {},
   "outputs": [],
   "source": []
  }
 ],
 "metadata": {
  "kernelspec": {
   "display_name": "Python 3 (ipykernel)",
   "language": "python",
   "name": "python3"
  },
  "language_info": {
   "codemirror_mode": {
    "name": "ipython",
    "version": 3
   },
   "file_extension": ".py",
   "mimetype": "text/x-python",
   "name": "python",
   "nbconvert_exporter": "python",
   "pygments_lexer": "ipython3",
   "version": "3.9.12"
  }
 },
 "nbformat": 4,
 "nbformat_minor": 5
}
