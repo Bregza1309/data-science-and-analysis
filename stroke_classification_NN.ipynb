{
 "cells": [
  {
   "cell_type": "code",
   "execution_count": 11,
   "id": "0dff976b-0d78-41bc-82ca-f55797beb8db",
   "metadata": {},
   "outputs": [],
   "source": [
    "#Import libraries\n",
    "import seaborn as sb\n",
    "import numpy as np\n",
    "import pandas as pd\n",
    "from sklearn.model_selection import train_test_split as tts\n",
    "from sklearn.preprocessing import LabelEncoder\n",
    "from sklearn.preprocessing import OneHotEncoder\n",
    "from keras.models import Sequential\n",
    "from keras.layers.core import Dense, Activation\n",
    "from keras.utils import np_utils\n",
    "from sklearn import preprocessing"
   ]
  },
  {
   "cell_type": "markdown",
   "id": "d167478f-8659-45dd-9a6a-91848a07b987",
   "metadata": {},
   "source": [
    "Load the data:"
   ]
  },
  {
   "cell_type": "code",
   "execution_count": 59,
   "id": "c0e82f13-608e-4981-ba5c-2076fc3b8e3e",
   "metadata": {},
   "outputs": [
    {
     "data": {
      "text/html": [
       "<div>\n",
       "<style scoped>\n",
       "    .dataframe tbody tr th:only-of-type {\n",
       "        vertical-align: middle;\n",
       "    }\n",
       "\n",
       "    .dataframe tbody tr th {\n",
       "        vertical-align: top;\n",
       "    }\n",
       "\n",
       "    .dataframe thead th {\n",
       "        text-align: right;\n",
       "    }\n",
       "</style>\n",
       "<table border=\"1\" class=\"dataframe\">\n",
       "  <thead>\n",
       "    <tr style=\"text-align: right;\">\n",
       "      <th></th>\n",
       "      <th>gender</th>\n",
       "      <th>age</th>\n",
       "      <th>hypertension</th>\n",
       "      <th>heart_disease</th>\n",
       "      <th>ever_married</th>\n",
       "      <th>work_type</th>\n",
       "      <th>Residence_type</th>\n",
       "      <th>avg_glucose_level</th>\n",
       "      <th>bmi</th>\n",
       "      <th>smoking_status</th>\n",
       "      <th>stroke</th>\n",
       "    </tr>\n",
       "    <tr>\n",
       "      <th>id</th>\n",
       "      <th></th>\n",
       "      <th></th>\n",
       "      <th></th>\n",
       "      <th></th>\n",
       "      <th></th>\n",
       "      <th></th>\n",
       "      <th></th>\n",
       "      <th></th>\n",
       "      <th></th>\n",
       "      <th></th>\n",
       "      <th></th>\n",
       "    </tr>\n",
       "  </thead>\n",
       "  <tbody>\n",
       "    <tr>\n",
       "      <th>9046</th>\n",
       "      <td>Male</td>\n",
       "      <td>67.0</td>\n",
       "      <td>0</td>\n",
       "      <td>1</td>\n",
       "      <td>Yes</td>\n",
       "      <td>Private</td>\n",
       "      <td>Urban</td>\n",
       "      <td>228.69</td>\n",
       "      <td>36.6</td>\n",
       "      <td>formerly smoked</td>\n",
       "      <td>1</td>\n",
       "    </tr>\n",
       "    <tr>\n",
       "      <th>51676</th>\n",
       "      <td>Female</td>\n",
       "      <td>61.0</td>\n",
       "      <td>0</td>\n",
       "      <td>0</td>\n",
       "      <td>Yes</td>\n",
       "      <td>Self-employed</td>\n",
       "      <td>Rural</td>\n",
       "      <td>202.21</td>\n",
       "      <td>NaN</td>\n",
       "      <td>never smoked</td>\n",
       "      <td>1</td>\n",
       "    </tr>\n",
       "    <tr>\n",
       "      <th>31112</th>\n",
       "      <td>Male</td>\n",
       "      <td>80.0</td>\n",
       "      <td>0</td>\n",
       "      <td>1</td>\n",
       "      <td>Yes</td>\n",
       "      <td>Private</td>\n",
       "      <td>Rural</td>\n",
       "      <td>105.92</td>\n",
       "      <td>32.5</td>\n",
       "      <td>never smoked</td>\n",
       "      <td>1</td>\n",
       "    </tr>\n",
       "    <tr>\n",
       "      <th>60182</th>\n",
       "      <td>Female</td>\n",
       "      <td>49.0</td>\n",
       "      <td>0</td>\n",
       "      <td>0</td>\n",
       "      <td>Yes</td>\n",
       "      <td>Private</td>\n",
       "      <td>Urban</td>\n",
       "      <td>171.23</td>\n",
       "      <td>34.4</td>\n",
       "      <td>smokes</td>\n",
       "      <td>1</td>\n",
       "    </tr>\n",
       "    <tr>\n",
       "      <th>1665</th>\n",
       "      <td>Female</td>\n",
       "      <td>79.0</td>\n",
       "      <td>1</td>\n",
       "      <td>0</td>\n",
       "      <td>Yes</td>\n",
       "      <td>Self-employed</td>\n",
       "      <td>Rural</td>\n",
       "      <td>174.12</td>\n",
       "      <td>24.0</td>\n",
       "      <td>never smoked</td>\n",
       "      <td>1</td>\n",
       "    </tr>\n",
       "  </tbody>\n",
       "</table>\n",
       "</div>"
      ],
      "text/plain": [
       "       gender   age  hypertension  heart_disease ever_married      work_type  \\\n",
       "id                                                                             \n",
       "9046     Male  67.0             0              1          Yes        Private   \n",
       "51676  Female  61.0             0              0          Yes  Self-employed   \n",
       "31112    Male  80.0             0              1          Yes        Private   \n",
       "60182  Female  49.0             0              0          Yes        Private   \n",
       "1665   Female  79.0             1              0          Yes  Self-employed   \n",
       "\n",
       "      Residence_type  avg_glucose_level   bmi   smoking_status  stroke  \n",
       "id                                                                      \n",
       "9046           Urban             228.69  36.6  formerly smoked       1  \n",
       "51676          Rural             202.21   NaN     never smoked       1  \n",
       "31112          Rural             105.92  32.5     never smoked       1  \n",
       "60182          Urban             171.23  34.4           smokes       1  \n",
       "1665           Rural             174.12  24.0     never smoked       1  "
      ]
     },
     "execution_count": 59,
     "metadata": {},
     "output_type": "execute_result"
    }
   ],
   "source": [
    "df = pd.read_csv('data/healthcare-dataset-stroke-data.csv',index_col = [0])\n",
    "df.head()"
   ]
  },
  {
   "cell_type": "markdown",
   "id": "8d506db0-5dd1-4ad1-bec7-784c0eaaeab7",
   "metadata": {},
   "source": [
    "check for null values"
   ]
  },
  {
   "cell_type": "code",
   "execution_count": 60,
   "id": "e3b05855-1df9-484c-9e5e-fdb0d618c2e9",
   "metadata": {},
   "outputs": [
    {
     "data": {
      "text/plain": [
       "gender                 0\n",
       "age                    0\n",
       "hypertension           0\n",
       "heart_disease          0\n",
       "ever_married           0\n",
       "work_type              0\n",
       "Residence_type         0\n",
       "avg_glucose_level      0\n",
       "bmi                  201\n",
       "smoking_status         0\n",
       "stroke                 0\n",
       "dtype: int64"
      ]
     },
     "execution_count": 60,
     "metadata": {},
     "output_type": "execute_result"
    }
   ],
   "source": [
    "df.isna().sum()"
   ]
  },
  {
   "cell_type": "markdown",
   "id": "28536b42-f167-41ba-afa3-464f6ef60aa0",
   "metadata": {},
   "source": [
    "fill in null values in bmi using the median"
   ]
  },
  {
   "cell_type": "code",
   "execution_count": 61,
   "id": "8b607388-4f9b-42da-b2ba-b890319f475b",
   "metadata": {},
   "outputs": [
    {
     "data": {
      "text/plain": [
       "gender               0\n",
       "age                  0\n",
       "hypertension         0\n",
       "heart_disease        0\n",
       "ever_married         0\n",
       "work_type            0\n",
       "Residence_type       0\n",
       "avg_glucose_level    0\n",
       "bmi                  0\n",
       "smoking_status       0\n",
       "stroke               0\n",
       "dtype: int64"
      ]
     },
     "execution_count": 61,
     "metadata": {},
     "output_type": "execute_result"
    }
   ],
   "source": [
    "df['bmi'].fillna(df['bmi'].median() , inplace = True)\n",
    "df.isna().sum()"
   ]
  },
  {
   "cell_type": "markdown",
   "id": "6c48726e-8a5e-4ab4-97cb-b223855803e7",
   "metadata": {},
   "source": [
    "Convert categorial to numerical"
   ]
  },
  {
   "cell_type": "code",
   "execution_count": 62,
   "id": "bc77d709-aa2e-4dd8-9340-637999a3c876",
   "metadata": {},
   "outputs": [],
   "source": [
    "cat_columns = df.select_dtypes(include = 'object').columns.tolist()\n",
    "encoder = preprocessing.LabelEncoder()\n",
    "for cat in cat_columns:\n",
    "    df[cat] = encoder.fit_transform(df[cat])\n"
   ]
  },
  {
   "cell_type": "markdown",
   "id": "d8d478b0-c525-41bb-a93b-561da0d18d1e",
   "metadata": {},
   "source": [
    "create dummy variables for classes"
   ]
  },
  {
   "cell_type": "code",
   "execution_count": 63,
   "id": "2dbf00d2-6386-47e5-acde-360b2d9dbee1",
   "metadata": {},
   "outputs": [],
   "source": [
    "dummies = pd.get_dummies(df['stroke'])\n",
    "del df['stroke']\n",
    "df = pd.concat([df,dummies],axis = 1)"
   ]
  },
  {
   "cell_type": "markdown",
   "id": "81a93b93-25e0-4d2e-8d4c-4ddbfcc9c17f",
   "metadata": {},
   "source": [
    "Seperate Independent and dependent variables"
   ]
  },
  {
   "cell_type": "code",
   "execution_count": 64,
   "id": "cb3b87c4-f8f9-45e2-9895-8e2c45cfad4b",
   "metadata": {},
   "outputs": [
    {
     "data": {
      "text/plain": [
       "array([  0.  ,  49.  ,   0.  ,   0.  ,   1.  ,   2.  ,   1.  , 171.23,\n",
       "        34.4 ,   3.  ])"
      ]
     },
     "execution_count": 64,
     "metadata": {},
     "output_type": "execute_result"
    }
   ],
   "source": [
    "X = df.values[:,:10]\n",
    "Y = df.values[:,10:]\n",
    "X[3]"
   ]
  },
  {
   "cell_type": "markdown",
   "id": "51e58117-0652-4c44-b25e-bb10765a1684",
   "metadata": {},
   "source": [
    "Split training and testing data"
   ]
  },
  {
   "cell_type": "code",
   "execution_count": 65,
   "id": "1f96bc38-1d73-49bb-a2c9-bf920a03889d",
   "metadata": {},
   "outputs": [],
   "source": [
    "x_train,x_test,y_train,y_test = tts(X,Y , test_size = 0.2)"
   ]
  },
  {
   "cell_type": "markdown",
   "id": "1485054a-7a28-4248-b1a3-3a5cf26b1ef8",
   "metadata": {},
   "source": [
    "Build Neural Network model"
   ]
  },
  {
   "cell_type": "code",
   "execution_count": 66,
   "id": "aeb8ca19-4c42-4ad5-9157-4d876e207e18",
   "metadata": {},
   "outputs": [],
   "source": [
    "model = Sequential()"
   ]
  },
  {
   "cell_type": "code",
   "execution_count": 67,
   "id": "bb04738d-e053-4e2a-9c6a-352539b60344",
   "metadata": {},
   "outputs": [],
   "source": [
    "#add layesrs\n",
    "model.add(Dense(20 , input_shape = (10,)))\n",
    "model.add(Activation('sigmoid'))\n",
    "\n",
    "model.add(Dense(10))\n",
    "model.add(Activation('sigmoid'))\n",
    "\n",
    "#output layer\n",
    "model.add(Dense(2))\n",
    "model.add(Activation('softmax'))"
   ]
  },
  {
   "cell_type": "markdown",
   "id": "e2f18cbf-c01a-443a-8b8f-ed0fd50c3005",
   "metadata": {},
   "source": [
    "Compile the model"
   ]
  },
  {
   "cell_type": "code",
   "execution_count": 68,
   "id": "cb627a30-5313-440e-a3f6-671da2f60159",
   "metadata": {},
   "outputs": [],
   "source": [
    "model.compile(optimizer = 'adam',loss = 'categorical_crossentropy',metrics = ['accuracy'])"
   ]
  },
  {
   "cell_type": "markdown",
   "id": "e190f363-7110-4007-b8fb-af2ba3c194d2",
   "metadata": {},
   "source": [
    "fit training data into model"
   ]
  },
  {
   "cell_type": "code",
   "execution_count": 69,
   "id": "d4dd943d-2054-497f-b899-f7f184edbc7a",
   "metadata": {},
   "outputs": [
    {
     "name": "stdout",
     "output_type": "stream",
     "text": [
      "Epoch 1/5\n",
      "4088/4088 [==============================] - 6s 1ms/step - loss: 0.2020 - accuracy: 0.9474\n",
      "Epoch 2/5\n",
      "4088/4088 [==============================] - 5s 1ms/step - loss: 0.1823 - accuracy: 0.9499\n",
      "Epoch 3/5\n",
      "4088/4088 [==============================] - 5s 1ms/step - loss: 0.1782 - accuracy: 0.9499\n",
      "Epoch 4/5\n",
      "4088/4088 [==============================] - 5s 1ms/step - loss: 0.1750 - accuracy: 0.9499\n",
      "Epoch 5/5\n",
      "4088/4088 [==============================] - 5s 1ms/step - loss: 0.1750 - accuracy: 0.9499\n"
     ]
    }
   ],
   "source": [
    "model_info = model.fit(x_train,y_train,epochs = 5 ,batch_size = 1)"
   ]
  },
  {
   "cell_type": "code",
   "execution_count": 70,
   "id": "463490e7-0de5-4544-b380-322a56dc510c",
   "metadata": {},
   "outputs": [
    {
     "name": "stdout",
     "output_type": "stream",
     "text": [
      "32/32 [==============================] - 0s 1ms/step - loss: 0.1593 - accuracy: 0.9569\n",
      "Accuracy :95.69%\n"
     ]
    }
   ],
   "source": [
    "loss,accuracy = model.evaluate(x_test,y_test)\n",
    "print('Accuracy :{:.2f}%'.format(accuracy* 100))"
   ]
  },
  {
   "cell_type": "code",
   "execution_count": 72,
   "id": "55696c47-0a51-4670-8fee-b7bd2fd7f4ca",
   "metadata": {},
   "outputs": [
    {
     "name": "stdout",
     "output_type": "stream",
     "text": [
      "1/1 [==============================] - 0s 42ms/step\n"
     ]
    },
    {
     "data": {
      "text/plain": [
       "array([[0.981427  , 0.01857295]], dtype=float32)"
      ]
     },
     "execution_count": 72,
     "metadata": {},
     "output_type": "execute_result"
    }
   ],
   "source": [
    "pred = model.predict([[ 0.  ,  49.  ,   0.  ,   0.  ,   1.  ,   2.  ,   1.  , 171.23,\n",
    "        34.4 ,   3. ]])\n",
    "pred"
   ]
  },
  {
   "cell_type": "code",
   "execution_count": null,
   "id": "ad0dad0c-a91c-4c67-b43d-13d3ff67ce7c",
   "metadata": {},
   "outputs": [],
   "source": []
  }
 ],
 "metadata": {
  "kernelspec": {
   "display_name": "Python 3 (ipykernel)",
   "language": "python",
   "name": "python3"
  },
  "language_info": {
   "codemirror_mode": {
    "name": "ipython",
    "version": 3
   },
   "file_extension": ".py",
   "mimetype": "text/x-python",
   "name": "python",
   "nbconvert_exporter": "python",
   "pygments_lexer": "ipython3",
   "version": "3.9.12"
  }
 },
 "nbformat": 4,
 "nbformat_minor": 5
}
