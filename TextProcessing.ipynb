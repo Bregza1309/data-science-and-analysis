{
 "cells": [
  {
   "cell_type": "markdown",
   "id": "1b44ea4f-36d8-4195-ad36-e0e60ba5e9ee",
   "metadata": {},
   "source": [
    "text = 'Kick in the door waving the 4-4 all you heard was poppa dont hit me no more'"
   ]
  },
  {
   "cell_type": "code",
   "execution_count": 3,
   "id": "f08d2c1f-bd08-484e-bc9d-2644d264d476",
   "metadata": {},
   "outputs": [
    {
     "data": {
      "text/plain": [
       "17"
      ]
     },
     "execution_count": 3,
     "metadata": {},
     "output_type": "execute_result"
    }
   ],
   "source": [
    "len(text.split(\" \"))"
   ]
  },
  {
   "cell_type": "code",
   "execution_count": null,
   "id": "e464a83b-4b38-43a1-8775-dd47fd56e625",
   "metadata": {},
   "outputs": [],
   "source": [
    "## REGULAR EXPRESSIONS"
   ]
  },
  {
   "cell_type": "code",
   "execution_count": 4,
   "id": "2c8cfeba-432b-4052-be51-efa1c0d4df45",
   "metadata": {},
   "outputs": [],
   "source": [
    "import re"
   ]
  },
  {
   "cell_type": "code",
   "execution_count": 7,
   "id": "c6f0debd-1af0-457f-8f94-144d17e9786a",
   "metadata": {},
   "outputs": [
    {
     "name": "stdout",
     "output_type": "stream",
     "text": [
      "Pattern exists month:Jan\n"
     ]
    }
   ],
   "source": [
    "text2 = \"This news article is published on month:Jan\"\n",
    "matchResult = re.search(r'month:\\w\\w\\w',text2)\n",
    "if matchResult:\n",
    "    print('Pattern exists',matchResult.group())\n",
    "else:\n",
    "    print('Pattern not exists')"
   ]
  },
  {
   "cell_type": "code",
   "execution_count": null,
   "id": "1a14c240-4564-44fe-a789-316869755981",
   "metadata": {},
   "outputs": [],
   "source": []
  }
 ],
 "metadata": {
  "kernelspec": {
   "display_name": "Python 3 (ipykernel)",
   "language": "python",
   "name": "python3"
  },
  "language_info": {
   "codemirror_mode": {
    "name": "ipython",
    "version": 3
   },
   "file_extension": ".py",
   "mimetype": "text/x-python",
   "name": "python",
   "nbconvert_exporter": "python",
   "pygments_lexer": "ipython3",
   "version": "3.9.12"
  }
 },
 "nbformat": 4,
 "nbformat_minor": 5
}
