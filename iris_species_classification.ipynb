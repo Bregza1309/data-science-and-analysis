{
 "cells": [
  {
   "cell_type": "code",
   "execution_count": 1,
   "id": "38f1cf01-a426-488b-add1-b03a34f93dc4",
   "metadata": {},
   "outputs": [],
   "source": [
    "#Import libraries\n",
    "import seaborn as sb\n",
    "import numpy as np\n",
    "import pandas as pd\n",
    "from sklearn.model_selection import train_test_split as tts\n",
    "from sklearn.preprocessing import LabelEncoder\n",
    "from sklearn.preprocessing import OneHotEncoder\n",
    "from keras.models import Sequential\n",
    "from keras.layers.core import Dense, Activation\n",
    "from keras.utils import np_utils"
   ]
  },
  {
   "cell_type": "markdown",
   "id": "191b05d8-73f1-46d9-b0ab-b4e217ace96b",
   "metadata": {},
   "source": [
    "<p>Load data using pandas</p>"
   ]
  },
  {
   "cell_type": "code",
   "execution_count": 2,
   "id": "9e05d567-c63a-46cc-8d1b-b70284476075",
   "metadata": {},
   "outputs": [
    {
     "data": {
      "text/html": [
       "<div>\n",
       "<style scoped>\n",
       "    .dataframe tbody tr th:only-of-type {\n",
       "        vertical-align: middle;\n",
       "    }\n",
       "\n",
       "    .dataframe tbody tr th {\n",
       "        vertical-align: top;\n",
       "    }\n",
       "\n",
       "    .dataframe thead th {\n",
       "        text-align: right;\n",
       "    }\n",
       "</style>\n",
       "<table border=\"1\" class=\"dataframe\">\n",
       "  <thead>\n",
       "    <tr style=\"text-align: right;\">\n",
       "      <th></th>\n",
       "      <th>SepalLengthCm</th>\n",
       "      <th>SepalWidthCm</th>\n",
       "      <th>PetalLengthCm</th>\n",
       "      <th>PetalWidthCm</th>\n",
       "      <th>Species</th>\n",
       "    </tr>\n",
       "    <tr>\n",
       "      <th>Id</th>\n",
       "      <th></th>\n",
       "      <th></th>\n",
       "      <th></th>\n",
       "      <th></th>\n",
       "      <th></th>\n",
       "    </tr>\n",
       "  </thead>\n",
       "  <tbody>\n",
       "    <tr>\n",
       "      <th>1</th>\n",
       "      <td>5.1</td>\n",
       "      <td>3.5</td>\n",
       "      <td>1.4</td>\n",
       "      <td>0.2</td>\n",
       "      <td>Iris-setosa</td>\n",
       "    </tr>\n",
       "    <tr>\n",
       "      <th>2</th>\n",
       "      <td>4.9</td>\n",
       "      <td>3.0</td>\n",
       "      <td>1.4</td>\n",
       "      <td>0.2</td>\n",
       "      <td>Iris-setosa</td>\n",
       "    </tr>\n",
       "    <tr>\n",
       "      <th>3</th>\n",
       "      <td>4.7</td>\n",
       "      <td>3.2</td>\n",
       "      <td>1.3</td>\n",
       "      <td>0.2</td>\n",
       "      <td>Iris-setosa</td>\n",
       "    </tr>\n",
       "    <tr>\n",
       "      <th>4</th>\n",
       "      <td>4.6</td>\n",
       "      <td>3.1</td>\n",
       "      <td>1.5</td>\n",
       "      <td>0.2</td>\n",
       "      <td>Iris-setosa</td>\n",
       "    </tr>\n",
       "    <tr>\n",
       "      <th>5</th>\n",
       "      <td>5.0</td>\n",
       "      <td>3.6</td>\n",
       "      <td>1.4</td>\n",
       "      <td>0.2</td>\n",
       "      <td>Iris-setosa</td>\n",
       "    </tr>\n",
       "  </tbody>\n",
       "</table>\n",
       "</div>"
      ],
      "text/plain": [
       "    SepalLengthCm  SepalWidthCm  PetalLengthCm  PetalWidthCm      Species\n",
       "Id                                                                       \n",
       "1             5.1           3.5            1.4           0.2  Iris-setosa\n",
       "2             4.9           3.0            1.4           0.2  Iris-setosa\n",
       "3             4.7           3.2            1.3           0.2  Iris-setosa\n",
       "4             4.6           3.1            1.5           0.2  Iris-setosa\n",
       "5             5.0           3.6            1.4           0.2  Iris-setosa"
      ]
     },
     "execution_count": 2,
     "metadata": {},
     "output_type": "execute_result"
    }
   ],
   "source": [
    "df = pd.read_csv('data/iris.csv',index_col = [0])\n",
    "df.head()"
   ]
  },
  {
   "cell_type": "markdown",
   "id": "38fd0827-a004-4613-980b-be897d0333d9",
   "metadata": {},
   "source": [
    "<p>Above data has three classes in text form. To give input to our neural network\n",
    "model, we first need to convert them to one hot encoding. We use pandas\n",
    "get_dummies() function to create one hot encoded class.</p>"
   ]
  },
  {
   "cell_type": "code",
   "execution_count": 3,
   "id": "eb49e84d-b59e-4193-8626-9b5c8ccea6a8",
   "metadata": {},
   "outputs": [],
   "source": [
    "class_as_one_hot_encoding = pd.get_dummies(df['Species'])"
   ]
  },
  {
   "cell_type": "markdown",
   "id": "ffdcd3ea-ae90-440a-a9d0-4ffa098a7180",
   "metadata": {},
   "source": [
    "<p>Remove class and concat one hot encoding values</p>"
   ]
  },
  {
   "cell_type": "code",
   "execution_count": 4,
   "id": "37a3cae2-3341-4932-b520-1e0b2fa9ba5c",
   "metadata": {},
   "outputs": [],
   "source": [
    "del df['Species']\n",
    "df = pd.concat([df,class_as_one_hot_encoding],axis = 1)"
   ]
  },
  {
   "cell_type": "markdown",
   "id": "4af68921-4ab5-48f9-af32-f45a7ae58f20",
   "metadata": {},
   "source": [
    "<p>Separate independent and dependent attributes</p>"
   ]
  },
  {
   "cell_type": "code",
   "execution_count": 5,
   "id": "038fc341-157a-47de-9213-617559ae210d",
   "metadata": {},
   "outputs": [],
   "source": [
    "x = df.values[:,:4]\n",
    "y = df.values[:,4:]"
   ]
  },
  {
   "cell_type": "markdown",
   "id": "a19f9e56-78ea-440e-91ab-6fdf66c22806",
   "metadata": {},
   "source": [
    "<p>Slit data into training and testing sets \n",
    "Data will be split training(70%) and test 30%</p>"
   ]
  },
  {
   "cell_type": "code",
   "execution_count": 6,
   "id": "7c7d8510-4785-46f0-9491-b39f3713e5bd",
   "metadata": {},
   "outputs": [],
   "source": [
    "x_train,x_test ,y_train,y_test = tts(x,y,test_size = 0.3)"
   ]
  },
  {
   "cell_type": "markdown",
   "id": "6872ba4a-c1c2-43fd-aa2a-0b436a98be77",
   "metadata": {},
   "source": [
    "<p>Keras is a library of neural network. It has a lot of hyper parameters to tune for\n",
    "better model creation. In the dataset which we have chosen contains 4 features\n",
    "and one output with three possible classes. So, our input layer must have four\n",
    "units and output layer must have three units. We have a choice of number of hidden\n",
    "layers and hidden units within.\n",
    "In this example we will use only one hidden layer and take 10 hidden units in it.\n",
    "We will use sequential model in keras. This model is used to stacking up layers</p>"
   ]
  },
  {
   "cell_type": "code",
   "execution_count": 7,
   "id": "07b4736e-556a-442a-86e9-5fe1feb8e34d",
   "metadata": {},
   "outputs": [],
   "source": [
    "model = Sequential()"
   ]
  },
  {
   "cell_type": "markdown",
   "id": "605e2c7e-d972-4516-9502-0b831e0de973",
   "metadata": {},
   "source": [
    "<p>I will use Dense layer followed by activation layer. In my first\n",
    "simple neural network I want to connect each input layer node to output layer\n",
    "node.I will use 10 hidden units in hidden layer.</p>"
   ]
  },
  {
   "cell_type": "code",
   "execution_count": 8,
   "id": "672ed0be-c266-430a-b2be-26aa784a7ea8",
   "metadata": {},
   "outputs": [],
   "source": [
    "model.add(Dense(10,input_shape = (4,)))"
   ]
  },
  {
   "cell_type": "markdown",
   "id": "d1348c13-5f38-41a5-ba3c-0446462e0e85",
   "metadata": {},
   "source": [
    "<p>We will use sigmoid activation for this layer.<p>"
   ]
  },
  {
   "cell_type": "code",
   "execution_count": 9,
   "id": "a0d3eb5b-c9bf-4adb-82f8-35ab1c7bd491",
   "metadata": {},
   "outputs": [],
   "source": [
    "model.add(Activation('sigmoid'))"
   ]
  },
  {
   "cell_type": "markdown",
   "id": "bd0452bd-995f-48ab-90e2-b9fa21f94617",
   "metadata": {},
   "source": [
    "Now we define output layer. As we have 3 output classes, we use three units in\n",
    "output layer"
   ]
  },
  {
   "cell_type": "code",
   "execution_count": 10,
   "id": "7485da1d-fa03-466e-903e-83ee59a3fc7e",
   "metadata": {},
   "outputs": [],
   "source": [
    "model.add(Dense(3))"
   ]
  },
  {
   "cell_type": "markdown",
   "id": "80e07bcc-7596-423e-90fe-31735eed3652",
   "metadata": {},
   "source": [
    "We use softmax activation function for output layer"
   ]
  },
  {
   "cell_type": "code",
   "execution_count": 11,
   "id": "2a678ad0-2785-43f8-b199-52914df3464d",
   "metadata": {},
   "outputs": [],
   "source": [
    "model.add(Activation('softmax'))"
   ]
  },
  {
   "cell_type": "markdown",
   "id": "ee1a48de-aa32-4d62-b9bb-c5519e1c69c9",
   "metadata": {},
   "source": [
    "Now, we compile our model by using compile() function. To compile the model,\n",
    "we use efficient library (Tensorflow in this case) to do the processing."
   ]
  },
  {
   "cell_type": "code",
   "execution_count": 12,
   "id": "ed35bac6-a5ca-4887-9213-201b1e52252a",
   "metadata": {},
   "outputs": [],
   "source": [
    "model.compile(optimizer = 'adam',loss = 'categorical_crossentropy',metrics = ['accuracy'])"
   ]
  },
  {
   "cell_type": "markdown",
   "id": "744bd48e-88c9-4674-9d26-f0fcbaf6080b",
   "metadata": {},
   "source": [
    "Now, we fit the model. We can choose different set of hyper parameters which\n",
    "affects our training. Here we have chosen number of iteration = 100 (epochs) and\n",
    "batch size =1. Batch size = 1 means at one time we are exposing only one training\n",
    "example to our model. If we don't want to see the processing and loss calculation,\n",
    "we can add parameter verbose=0 in the fit function"
   ]
  },
  {
   "cell_type": "code",
   "execution_count": 13,
   "id": "885c4007-8fe5-4118-8869-19a0110436ea",
   "metadata": {},
   "outputs": [
    {
     "name": "stdout",
     "output_type": "stream",
     "text": [
      "Epoch 1/10\n",
      "105/105 [==============================] - 4s 4ms/step - loss: 1.0533 - accuracy: 0.3238\n",
      "Epoch 2/10\n",
      "105/105 [==============================] - 0s 3ms/step - loss: 1.0193 - accuracy: 0.4190\n",
      "Epoch 3/10\n",
      "105/105 [==============================] - 0s 3ms/step - loss: 0.9813 - accuracy: 0.6286\n",
      "Epoch 4/10\n",
      "105/105 [==============================] - 0s 2ms/step - loss: 0.9310 - accuracy: 0.7810\n",
      "Epoch 5/10\n",
      "105/105 [==============================] - 0s 1ms/step - loss: 0.8761 - accuracy: 0.7714\n",
      "Epoch 6/10\n",
      "105/105 [==============================] - 0s 1ms/step - loss: 0.8253 - accuracy: 0.9238\n",
      "Epoch 7/10\n",
      "105/105 [==============================] - 0s 1ms/step - loss: 0.7789 - accuracy: 0.8857\n",
      "Epoch 8/10\n",
      "105/105 [==============================] - 0s 1ms/step - loss: 0.7397 - accuracy: 0.8381\n",
      "Epoch 9/10\n",
      "105/105 [==============================] - 0s 1ms/step - loss: 0.6968 - accuracy: 0.8571\n",
      "Epoch 10/10\n",
      "105/105 [==============================] - 0s 1ms/step - loss: 0.6516 - accuracy: 0.8476\n"
     ]
    }
   ],
   "source": [
    "model_info = model.fit(x_train,y_train,epochs = 10 , batch_size = 1)"
   ]
  },
  {
   "cell_type": "code",
   "execution_count": 17,
   "id": "f9931352-571b-4e2a-ba7f-fb712550f555",
   "metadata": {},
   "outputs": [
    {
     "name": "stdout",
     "output_type": "stream",
     "text": [
      "2/2 [==============================] - 0s 8ms/step - loss: 0.6240 - accuracy: 0.9556\n",
      "model_accuracy = 95.5556\n"
     ]
    }
   ],
   "source": [
    "loss,accuracy = model.evaluate(x_test,y_test)\n",
    "print('model_accuracy = {:.4f}'.format(accuracy *100))"
   ]
  },
  {
   "cell_type": "code",
   "execution_count": 18,
   "id": "70033e7c-f33b-41b6-a994-fd760c4a2146",
   "metadata": {},
   "outputs": [
    {
     "name": "stdout",
     "output_type": "stream",
     "text": [
      "1/1 [==============================] - 0s 32ms/step\n"
     ]
    }
   ],
   "source": [
    "y_pred = model.predict([[5.1,3.5,1.4,0.2]])\n"
   ]
  },
  {
   "cell_type": "code",
   "execution_count": 16,
   "id": "ad19c780-d299-4876-a9f9-252fbc527337",
   "metadata": {},
   "outputs": [
    {
     "data": {
      "text/plain": [
       "0"
      ]
     },
     "execution_count": 16,
     "metadata": {},
     "output_type": "execute_result"
    }
   ],
   "source": [
    "y_pred.argmax()"
   ]
  },
  {
   "cell_type": "code",
   "execution_count": null,
   "id": "062c975b-515c-488d-b2f3-422f71a14042",
   "metadata": {},
   "outputs": [],
   "source": []
  }
 ],
 "metadata": {
  "kernelspec": {
   "display_name": "Python 3 (ipykernel)",
   "language": "python",
   "name": "python3"
  },
  "language_info": {
   "codemirror_mode": {
    "name": "ipython",
    "version": 3
   },
   "file_extension": ".py",
   "mimetype": "text/x-python",
   "name": "python",
   "nbconvert_exporter": "python",
   "pygments_lexer": "ipython3",
   "version": "3.9.12"
  }
 },
 "nbformat": 4,
 "nbformat_minor": 5
}
