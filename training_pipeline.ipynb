{
 "cells": [
  {
   "cell_type": "markdown",
   "id": "c3fcd167-1151-4e7a-a0cb-3c72fbddd47a",
   "metadata": {},
   "source": [
    "<h2>Creating a training pipeline<h2>"
   ]
  },
  {
   "cell_type": "markdown",
   "id": "ca8eb72c-6a3e-473c-baeb-4c4a43388bac",
   "metadata": {},
   "source": [
    "Load necessary modules"
   ]
  },
  {
   "cell_type": "code",
   "execution_count": 2,
   "id": "9b4dada4-2611-4259-a15c-6cf919f7f6f7",
   "metadata": {},
   "outputs": [],
   "source": [
    "from sklearn.datasets import make_blobs\n",
    "from sklearn.feature_selection import SelectKBest, f_regression\n",
    "from sklearn.pipeline import Pipeline\n",
    "from sklearn.ensemble import ExtraTreesClassifier\n",
    "import pandas as pd"
   ]
  },
  {
   "cell_type": "markdown",
   "id": "1a855e52-4f1e-447f-acf1-9ed8caecbd41",
   "metadata": {},
   "source": [
    "Let's generate some labeled sample data for training and testing. The scikit-learn\n",
    "package has a built-in function that handles it. In the line to follow, we create 150 data\n",
    "points, where each data point is a 25-dimensional feature vector. The numbers in each\n",
    "feature vector will be generated using a random sample generator. Each data point has six\n",
    "informative features and no redundant features"
   ]
  },
  {
   "cell_type": "code",
   "execution_count": 4,
   "id": "9bc57c2e-f33a-4d39-8c97-cd43cee07133",
   "metadata": {},
   "outputs": [],
   "source": [
    "arg = {'n_samples':150,'n_features':25,'random_state':7}\n",
    "X,Y = make_blobs(**arg)"
   ]
  },
  {
   "cell_type": "markdown",
   "id": "e52f11f5-d55c-42e1-9412-20f949b6cb72",
   "metadata": {},
   "source": [
    "The first block in the pipeline is the feature selector. This block selects the K best features."
   ]
  },
  {
   "cell_type": "code",
   "execution_count": 8,
   "id": "9176ec53-84c6-4897-980f-e1bc12ed4c71",
   "metadata": {},
   "outputs": [],
   "source": [
    "k_best = SelectKBest(f_regression,k = 9)"
   ]
  },
  {
   "cell_type": "markdown",
   "id": "248d826d-6290-4c1c-906d-b6af1b273e91",
   "metadata": {},
   "source": [
    "The next block in the pipeline is an Extremely Random Forests classifier with 60 estimators\n",
    "and a maximum depth of four"
   ]
  },
  {
   "cell_type": "code",
   "execution_count": 9,
   "id": "89c77b31-b63f-4746-a894-9a8c8fb2ef61",
   "metadata": {},
   "outputs": [],
   "source": [
    "arg = {'n_estimators':60,'max_depth':4}\n",
    "classifier = ExtraTreesClassifier(**arg)"
   ]
  },
  {
   "cell_type": "markdown",
   "id": "3522e280-390f-458d-8415-cb4d4e6d053b",
   "metadata": {},
   "source": [
    "construct the pipeline by joining the individual blocks that we've constructed. We can\n",
    "name each block so that it's easier to track:"
   ]
  },
  {
   "cell_type": "code",
   "execution_count": 10,
   "id": "4edcb5d8-8c18-4be8-b62f-956f0474db83",
   "metadata": {},
   "outputs": [],
   "source": [
    "processor_pipeline = Pipeline([('selector',k_best),('erf',classifier)])"
   ]
  },
  {
   "cell_type": "markdown",
   "id": "95993b67-9f79-4680-9766-033d6352dcc8",
   "metadata": {},
   "source": [
    "We can change the parameters of the individual blocks. Let's change the value of K in the\n",
    "first block to 7 and the number of estimators in the second block to 30. We will use the\n",
    "names we assigned in the previous line to define the scope"
   ]
  },
  {
   "cell_type": "code",
   "execution_count": 12,
   "id": "fbd672fe-bc35-4fd8-a87c-886872003325",
   "metadata": {},
   "outputs": [
    {
     "data": {
      "text/html": [
       "<style>#sk-container-id-1 {color: black;background-color: white;}#sk-container-id-1 pre{padding: 0;}#sk-container-id-1 div.sk-toggleable {background-color: white;}#sk-container-id-1 label.sk-toggleable__label {cursor: pointer;display: block;width: 100%;margin-bottom: 0;padding: 0.3em;box-sizing: border-box;text-align: center;}#sk-container-id-1 label.sk-toggleable__label-arrow:before {content: \"▸\";float: left;margin-right: 0.25em;color: #696969;}#sk-container-id-1 label.sk-toggleable__label-arrow:hover:before {color: black;}#sk-container-id-1 div.sk-estimator:hover label.sk-toggleable__label-arrow:before {color: black;}#sk-container-id-1 div.sk-toggleable__content {max-height: 0;max-width: 0;overflow: hidden;text-align: left;background-color: #f0f8ff;}#sk-container-id-1 div.sk-toggleable__content pre {margin: 0.2em;color: black;border-radius: 0.25em;background-color: #f0f8ff;}#sk-container-id-1 input.sk-toggleable__control:checked~div.sk-toggleable__content {max-height: 200px;max-width: 100%;overflow: auto;}#sk-container-id-1 input.sk-toggleable__control:checked~label.sk-toggleable__label-arrow:before {content: \"▾\";}#sk-container-id-1 div.sk-estimator input.sk-toggleable__control:checked~label.sk-toggleable__label {background-color: #d4ebff;}#sk-container-id-1 div.sk-label input.sk-toggleable__control:checked~label.sk-toggleable__label {background-color: #d4ebff;}#sk-container-id-1 input.sk-hidden--visually {border: 0;clip: rect(1px 1px 1px 1px);clip: rect(1px, 1px, 1px, 1px);height: 1px;margin: -1px;overflow: hidden;padding: 0;position: absolute;width: 1px;}#sk-container-id-1 div.sk-estimator {font-family: monospace;background-color: #f0f8ff;border: 1px dotted black;border-radius: 0.25em;box-sizing: border-box;margin-bottom: 0.5em;}#sk-container-id-1 div.sk-estimator:hover {background-color: #d4ebff;}#sk-container-id-1 div.sk-parallel-item::after {content: \"\";width: 100%;border-bottom: 1px solid gray;flex-grow: 1;}#sk-container-id-1 div.sk-label:hover label.sk-toggleable__label {background-color: #d4ebff;}#sk-container-id-1 div.sk-serial::before {content: \"\";position: absolute;border-left: 1px solid gray;box-sizing: border-box;top: 0;bottom: 0;left: 50%;z-index: 0;}#sk-container-id-1 div.sk-serial {display: flex;flex-direction: column;align-items: center;background-color: white;padding-right: 0.2em;padding-left: 0.2em;position: relative;}#sk-container-id-1 div.sk-item {position: relative;z-index: 1;}#sk-container-id-1 div.sk-parallel {display: flex;align-items: stretch;justify-content: center;background-color: white;position: relative;}#sk-container-id-1 div.sk-item::before, #sk-container-id-1 div.sk-parallel-item::before {content: \"\";position: absolute;border-left: 1px solid gray;box-sizing: border-box;top: 0;bottom: 0;left: 50%;z-index: -1;}#sk-container-id-1 div.sk-parallel-item {display: flex;flex-direction: column;z-index: 1;position: relative;background-color: white;}#sk-container-id-1 div.sk-parallel-item:first-child::after {align-self: flex-end;width: 50%;}#sk-container-id-1 div.sk-parallel-item:last-child::after {align-self: flex-start;width: 50%;}#sk-container-id-1 div.sk-parallel-item:only-child::after {width: 0;}#sk-container-id-1 div.sk-dashed-wrapped {border: 1px dashed gray;margin: 0 0.4em 0.5em 0.4em;box-sizing: border-box;padding-bottom: 0.4em;background-color: white;}#sk-container-id-1 div.sk-label label {font-family: monospace;font-weight: bold;display: inline-block;line-height: 1.2em;}#sk-container-id-1 div.sk-label-container {text-align: center;}#sk-container-id-1 div.sk-container {/* jupyter's `normalize.less` sets `[hidden] { display: none; }` but bootstrap.min.css set `[hidden] { display: none !important; }` so we also need the `!important` here to be able to override the default hidden behavior on the sphinx rendered scikit-learn.org. See: https://github.com/scikit-learn/scikit-learn/issues/21755 */display: inline-block !important;position: relative;}#sk-container-id-1 div.sk-text-repr-fallback {display: none;}</style><div id=\"sk-container-id-1\" class=\"sk-top-container\"><div class=\"sk-text-repr-fallback\"><pre>Pipeline(steps=[(&#x27;selector&#x27;,\n",
       "                 SelectKBest(k=7,\n",
       "                             score_func=&lt;function f_regression at 0x000002059CBA5CA0&gt;)),\n",
       "                (&#x27;erf&#x27;, ExtraTreesClassifier(max_depth=4, n_estimators=30))])</pre><b>In a Jupyter environment, please rerun this cell to show the HTML representation or trust the notebook. <br />On GitHub, the HTML representation is unable to render, please try loading this page with nbviewer.org.</b></div><div class=\"sk-container\" hidden><div class=\"sk-item sk-dashed-wrapped\"><div class=\"sk-label-container\"><div class=\"sk-label sk-toggleable\"><input class=\"sk-toggleable__control sk-hidden--visually\" id=\"sk-estimator-id-1\" type=\"checkbox\" ><label for=\"sk-estimator-id-1\" class=\"sk-toggleable__label sk-toggleable__label-arrow\">Pipeline</label><div class=\"sk-toggleable__content\"><pre>Pipeline(steps=[(&#x27;selector&#x27;,\n",
       "                 SelectKBest(k=7,\n",
       "                             score_func=&lt;function f_regression at 0x000002059CBA5CA0&gt;)),\n",
       "                (&#x27;erf&#x27;, ExtraTreesClassifier(max_depth=4, n_estimators=30))])</pre></div></div></div><div class=\"sk-serial\"><div class=\"sk-item\"><div class=\"sk-estimator sk-toggleable\"><input class=\"sk-toggleable__control sk-hidden--visually\" id=\"sk-estimator-id-2\" type=\"checkbox\" ><label for=\"sk-estimator-id-2\" class=\"sk-toggleable__label sk-toggleable__label-arrow\">SelectKBest</label><div class=\"sk-toggleable__content\"><pre>SelectKBest(k=7, score_func=&lt;function f_regression at 0x000002059CBA5CA0&gt;)</pre></div></div></div><div class=\"sk-item\"><div class=\"sk-estimator sk-toggleable\"><input class=\"sk-toggleable__control sk-hidden--visually\" id=\"sk-estimator-id-3\" type=\"checkbox\" ><label for=\"sk-estimator-id-3\" class=\"sk-toggleable__label sk-toggleable__label-arrow\">ExtraTreesClassifier</label><div class=\"sk-toggleable__content\"><pre>ExtraTreesClassifier(max_depth=4, n_estimators=30)</pre></div></div></div></div></div></div></div>"
      ],
      "text/plain": [
       "Pipeline(steps=[('selector',\n",
       "                 SelectKBest(k=7,\n",
       "                             score_func=<function f_regression at 0x000002059CBA5CA0>)),\n",
       "                ('erf', ExtraTreesClassifier(max_depth=4, n_estimators=30))])"
      ]
     },
     "execution_count": 12,
     "metadata": {},
     "output_type": "execute_result"
    }
   ],
   "source": [
    "processor_pipeline.set_params(selector__k = 7 ,erf__n_estimators = 30)"
   ]
  },
  {
   "cell_type": "markdown",
   "id": "74a1202c-f7de-4fb2-9092-53dc6743c70b",
   "metadata": {},
   "source": [
    "Train the pipeline using the sample data that we generated earlier"
   ]
  },
  {
   "cell_type": "code",
   "execution_count": 13,
   "id": "ebf0843d-10a7-43d6-993c-5645a7527c3f",
   "metadata": {},
   "outputs": [
    {
     "data": {
      "text/html": [
       "<style>#sk-container-id-2 {color: black;background-color: white;}#sk-container-id-2 pre{padding: 0;}#sk-container-id-2 div.sk-toggleable {background-color: white;}#sk-container-id-2 label.sk-toggleable__label {cursor: pointer;display: block;width: 100%;margin-bottom: 0;padding: 0.3em;box-sizing: border-box;text-align: center;}#sk-container-id-2 label.sk-toggleable__label-arrow:before {content: \"▸\";float: left;margin-right: 0.25em;color: #696969;}#sk-container-id-2 label.sk-toggleable__label-arrow:hover:before {color: black;}#sk-container-id-2 div.sk-estimator:hover label.sk-toggleable__label-arrow:before {color: black;}#sk-container-id-2 div.sk-toggleable__content {max-height: 0;max-width: 0;overflow: hidden;text-align: left;background-color: #f0f8ff;}#sk-container-id-2 div.sk-toggleable__content pre {margin: 0.2em;color: black;border-radius: 0.25em;background-color: #f0f8ff;}#sk-container-id-2 input.sk-toggleable__control:checked~div.sk-toggleable__content {max-height: 200px;max-width: 100%;overflow: auto;}#sk-container-id-2 input.sk-toggleable__control:checked~label.sk-toggleable__label-arrow:before {content: \"▾\";}#sk-container-id-2 div.sk-estimator input.sk-toggleable__control:checked~label.sk-toggleable__label {background-color: #d4ebff;}#sk-container-id-2 div.sk-label input.sk-toggleable__control:checked~label.sk-toggleable__label {background-color: #d4ebff;}#sk-container-id-2 input.sk-hidden--visually {border: 0;clip: rect(1px 1px 1px 1px);clip: rect(1px, 1px, 1px, 1px);height: 1px;margin: -1px;overflow: hidden;padding: 0;position: absolute;width: 1px;}#sk-container-id-2 div.sk-estimator {font-family: monospace;background-color: #f0f8ff;border: 1px dotted black;border-radius: 0.25em;box-sizing: border-box;margin-bottom: 0.5em;}#sk-container-id-2 div.sk-estimator:hover {background-color: #d4ebff;}#sk-container-id-2 div.sk-parallel-item::after {content: \"\";width: 100%;border-bottom: 1px solid gray;flex-grow: 1;}#sk-container-id-2 div.sk-label:hover label.sk-toggleable__label {background-color: #d4ebff;}#sk-container-id-2 div.sk-serial::before {content: \"\";position: absolute;border-left: 1px solid gray;box-sizing: border-box;top: 0;bottom: 0;left: 50%;z-index: 0;}#sk-container-id-2 div.sk-serial {display: flex;flex-direction: column;align-items: center;background-color: white;padding-right: 0.2em;padding-left: 0.2em;position: relative;}#sk-container-id-2 div.sk-item {position: relative;z-index: 1;}#sk-container-id-2 div.sk-parallel {display: flex;align-items: stretch;justify-content: center;background-color: white;position: relative;}#sk-container-id-2 div.sk-item::before, #sk-container-id-2 div.sk-parallel-item::before {content: \"\";position: absolute;border-left: 1px solid gray;box-sizing: border-box;top: 0;bottom: 0;left: 50%;z-index: -1;}#sk-container-id-2 div.sk-parallel-item {display: flex;flex-direction: column;z-index: 1;position: relative;background-color: white;}#sk-container-id-2 div.sk-parallel-item:first-child::after {align-self: flex-end;width: 50%;}#sk-container-id-2 div.sk-parallel-item:last-child::after {align-self: flex-start;width: 50%;}#sk-container-id-2 div.sk-parallel-item:only-child::after {width: 0;}#sk-container-id-2 div.sk-dashed-wrapped {border: 1px dashed gray;margin: 0 0.4em 0.5em 0.4em;box-sizing: border-box;padding-bottom: 0.4em;background-color: white;}#sk-container-id-2 div.sk-label label {font-family: monospace;font-weight: bold;display: inline-block;line-height: 1.2em;}#sk-container-id-2 div.sk-label-container {text-align: center;}#sk-container-id-2 div.sk-container {/* jupyter's `normalize.less` sets `[hidden] { display: none; }` but bootstrap.min.css set `[hidden] { display: none !important; }` so we also need the `!important` here to be able to override the default hidden behavior on the sphinx rendered scikit-learn.org. See: https://github.com/scikit-learn/scikit-learn/issues/21755 */display: inline-block !important;position: relative;}#sk-container-id-2 div.sk-text-repr-fallback {display: none;}</style><div id=\"sk-container-id-2\" class=\"sk-top-container\"><div class=\"sk-text-repr-fallback\"><pre>Pipeline(steps=[(&#x27;selector&#x27;,\n",
       "                 SelectKBest(k=7,\n",
       "                             score_func=&lt;function f_regression at 0x000002059CBA5CA0&gt;)),\n",
       "                (&#x27;erf&#x27;, ExtraTreesClassifier(max_depth=4, n_estimators=30))])</pre><b>In a Jupyter environment, please rerun this cell to show the HTML representation or trust the notebook. <br />On GitHub, the HTML representation is unable to render, please try loading this page with nbviewer.org.</b></div><div class=\"sk-container\" hidden><div class=\"sk-item sk-dashed-wrapped\"><div class=\"sk-label-container\"><div class=\"sk-label sk-toggleable\"><input class=\"sk-toggleable__control sk-hidden--visually\" id=\"sk-estimator-id-4\" type=\"checkbox\" ><label for=\"sk-estimator-id-4\" class=\"sk-toggleable__label sk-toggleable__label-arrow\">Pipeline</label><div class=\"sk-toggleable__content\"><pre>Pipeline(steps=[(&#x27;selector&#x27;,\n",
       "                 SelectKBest(k=7,\n",
       "                             score_func=&lt;function f_regression at 0x000002059CBA5CA0&gt;)),\n",
       "                (&#x27;erf&#x27;, ExtraTreesClassifier(max_depth=4, n_estimators=30))])</pre></div></div></div><div class=\"sk-serial\"><div class=\"sk-item\"><div class=\"sk-estimator sk-toggleable\"><input class=\"sk-toggleable__control sk-hidden--visually\" id=\"sk-estimator-id-5\" type=\"checkbox\" ><label for=\"sk-estimator-id-5\" class=\"sk-toggleable__label sk-toggleable__label-arrow\">SelectKBest</label><div class=\"sk-toggleable__content\"><pre>SelectKBest(k=7, score_func=&lt;function f_regression at 0x000002059CBA5CA0&gt;)</pre></div></div></div><div class=\"sk-item\"><div class=\"sk-estimator sk-toggleable\"><input class=\"sk-toggleable__control sk-hidden--visually\" id=\"sk-estimator-id-6\" type=\"checkbox\" ><label for=\"sk-estimator-id-6\" class=\"sk-toggleable__label sk-toggleable__label-arrow\">ExtraTreesClassifier</label><div class=\"sk-toggleable__content\"><pre>ExtraTreesClassifier(max_depth=4, n_estimators=30)</pre></div></div></div></div></div></div></div>"
      ],
      "text/plain": [
       "Pipeline(steps=[('selector',\n",
       "                 SelectKBest(k=7,\n",
       "                             score_func=<function f_regression at 0x000002059CBA5CA0>)),\n",
       "                ('erf', ExtraTreesClassifier(max_depth=4, n_estimators=30))])"
      ]
     },
     "execution_count": 13,
     "metadata": {},
     "output_type": "execute_result"
    }
   ],
   "source": [
    "processor_pipeline.fit(X,Y)"
   ]
  },
  {
   "cell_type": "markdown",
   "id": "e9dab5d6-ae49-425f-b1bf-3e3e91048d6e",
   "metadata": {},
   "source": [
    "Predict the output for all the input values and print it:"
   ]
  },
  {
   "cell_type": "code",
   "execution_count": 14,
   "id": "3e2beb46-3f0b-48ff-9e59-54180bd657f6",
   "metadata": {},
   "outputs": [
    {
     "name": "stdout",
     "output_type": "stream",
     "text": [
      "\n",
      " Predicted : [1 1 0 0 0 2 1 1 1 1 1 2 0 2 1 0 0 2 2 0 1 1 0 2 1 2 2 2 1 1 0 1 1 2 2 2 2\n",
      " 1 1 0 2 2 2 2 1 2 1 1 0 1 1 1 1 1 0 1 0 2 0 1 0 2 0 0 0 1 0 2 0 0 2 1 2 0\n",
      " 0 0 2 0 2 1 0 0 2 0 2 0 1 2 1 0 0 2 2 1 1 0 2 1 0 0 0 2 2 0 0 2 1 2 1 2 2\n",
      " 2 0 1 1 1 1 2 1 2 0 1 2 1 1 2 2 0 1 2 2 0 0 0 0 1 2 2 1 0 0 2 0 0 2 1 0 0\n",
      " 2 1]\n"
     ]
    }
   ],
   "source": [
    "y_pred = processor_pipeline.predict(X)\n",
    "print(\"\\n Predicted :\",y_pred)"
   ]
  },
  {
   "cell_type": "markdown",
   "id": "01afde21-9a1a-44d3-8f80-3f60e1c0a66b",
   "metadata": {},
   "source": [
    "Compute the score using the labeled training data:"
   ]
  },
  {
   "cell_type": "code",
   "execution_count": 17,
   "id": "ceef8895-7b8f-4d90-9751-da6b6719a277",
   "metadata": {},
   "outputs": [
    {
     "name": "stdout",
     "output_type": "stream",
     "text": [
      "\n",
      "Score:1.00\n"
     ]
    }
   ],
   "source": [
    "print(\"\\nScore:{:.2f}\".format(processor_pipeline.score(X,y_pred)))"
   ]
  },
  {
   "cell_type": "markdown",
   "id": "822e4ce2-8fb2-4e26-a185-f745987ef6df",
   "metadata": {},
   "source": [
    "Extract the features chosen by the selector block. We specified that we wanted to choose 7\n",
    "features out of 25. Use the following code:"
   ]
  },
  {
   "cell_type": "code",
   "execution_count": 22,
   "id": "68c31dbe-a2f1-44a4-a96f-8bf04e184ed4",
   "metadata": {},
   "outputs": [
    {
     "name": "stdout",
     "output_type": "stream",
     "text": [
      "\n",
      "Indices of selected features: 5, 7, 10, 15, 16, 17, 21\n"
     ]
    }
   ],
   "source": [
    "status = processor_pipeline.named_steps['selector'].get_support()\n",
    "\n",
    "#Extract and print indices of selcted features\n",
    "selected = [i for i,n in enumerate(status) if n]\n",
    "print(\"\\nIndices of selected features:\", ', '.join([str(x) for x in\n",
    "selected]))"
   ]
  },
  {
   "cell_type": "code",
   "execution_count": null,
   "id": "5ce14143-8abb-41cf-b597-a81131e66112",
   "metadata": {},
   "outputs": [],
   "source": []
  }
 ],
 "metadata": {
  "kernelspec": {
   "display_name": "Python 3 (ipykernel)",
   "language": "python",
   "name": "python3"
  },
  "language_info": {
   "codemirror_mode": {
    "name": "ipython",
    "version": 3
   },
   "file_extension": ".py",
   "mimetype": "text/x-python",
   "name": "python",
   "nbconvert_exporter": "python",
   "pygments_lexer": "ipython3",
   "version": "3.9.12"
  }
 },
 "nbformat": 4,
 "nbformat_minor": 5
}
