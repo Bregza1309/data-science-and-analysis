{
 "cells": [
  {
   "cell_type": "markdown",
   "id": "82c5db2e-0f23-4ea0-bd6b-1df552ca47d0",
   "metadata": {},
   "source": [
    "<h2>Finding similar users using collaborative\n",
    "filtering</h2>"
   ]
  },
  {
   "cell_type": "markdown",
   "id": "870e0eb2-ce8c-4282-b5cd-4ed313e94f7d",
   "metadata": {},
   "source": [
    "Load necessary modules"
   ]
  },
  {
   "cell_type": "code",
   "execution_count": 9,
   "id": "303475d6-8310-4149-86f9-2ec4d8f0e659",
   "metadata": {},
   "outputs": [],
   "source": [
    "import argparse\n",
    "import json\n",
    "import pandas as pd\n",
    "import numpy as np\n",
    "from scipy.stats import pearsonr"
   ]
  },
  {
   "cell_type": "markdown",
   "id": "7571e5cb-34ed-49f7-910a-178a506e6e97",
   "metadata": {},
   "source": [
    "Define a function to parse the input arguments. The only input argument would be the\n",
    "name of the user:"
   ]
  },
  {
   "cell_type": "code",
   "execution_count": 3,
   "id": "7130f663-fa35-4344-87a1-dccf17168945",
   "metadata": {},
   "outputs": [],
   "source": [
    "def build_arg_parser():\n",
    "    parser = argparse.ArgumentParser(description = 'Find users who are'\n",
    "                                     ' similar to the input user')\n",
    "    parser.add_argument('--user',dest = 'user',required = True,help = 'Input user')\n",
    "    return parser"
   ]
  },
  {
   "cell_type": "markdown",
   "id": "42f17f3a-41c5-4b3b-81d1-93e23d066957",
   "metadata": {},
   "source": [
    "Define a function to find the users in the dataset that are similar to the given user. If the user\n",
    "is not in the dataset, raise an error:"
   ]
  },
  {
   "cell_type": "code",
   "execution_count": 39,
   "id": "f87783aa-c7e7-4320-81e9-ddf31e6a164d",
   "metadata": {},
   "outputs": [],
   "source": [
    "def find_similar_users(dataset,user,num_users):\n",
    "    if user not in dataset:\n",
    "        raise TypeError('Cannot find '+ user + 'in the dataset')\n",
    "    #compute Pearson score between input users\n",
    "    scores = np.array([[x , pearsonr(pd.Series(dataset[user]).values,pd.Series(dataset[x]).values)] for x in dataset if len(pd.Series(dataset[x]).values) == len(pd.Series(dataset[user]).values) and x != user])\n",
    "    print(scores)\n",
    "    #sort the scores decreasing order\n",
    "    scores_sorted = np.argsort(scores[:,1])[::-1]\n",
    "    \n",
    "    #Extract the top 'num_users' scores\n",
    "    top_users = scores_sorted[:num_users]\n",
    "    return scores[top_users]"
   ]
  },
  {
   "cell_type": "code",
   "execution_count": 40,
   "id": "69af5fbc-0530-4ffd-ba25-50865a7d24cf",
   "metadata": {},
   "outputs": [
    {
     "name": "stdin",
     "output_type": "stream",
     "text": [
      "Enter Username :  Bill Duffy\n"
     ]
    },
    {
     "name": "stdout",
     "output_type": "stream",
     "text": [
      "{'David Smith': {'Vertigo': 4, 'Scarface': 4.5, 'Raging Bull': 3.0, 'Goodfellas': 4.5, 'The Apartment': 1.0}, 'Brenda Peterson': {'Vertigo': 3.0, 'Scarface': 1.5, 'Raging Bull': 1.0, 'Goodfellas': 2.0, 'The Apartment': 5.0, 'Roman Holiday': 4.5}, 'Bill Duffy': {'Vertigo': 4.5, 'Scarface': 5.0, 'Goodfellas': 4.5, 'The Apartment': 1.0}, 'Samuel Miller': {'Scarface': 3.5, 'Raging Bull': 5.0, 'The Apartment': 1.0, 'Goodfellas': 5.0, 'Roman Holiday': 1.0}, 'Julie Hammel': {'Scarface': 2.5, 'Roman Holiday': 4.5, 'Goodfellas': 3.0}, 'Clarissa Jackson': {'Vertigo': 5.0, 'Scarface': 4.5, 'Raging Bull': 4.0, 'Goodfellas': 2.5, 'The Apartment': 1.0, 'Roman Holiday': 1.5}, 'Adam Cohen': {'Vertigo': 3.5, 'Scarface': 3.0, 'The Apartment': 1.0, 'Goodfellas': 4.5, 'Roman Holiday': 3.0}, 'Chris Duncan': {'The Apartment': 1.5, 'Raging Bull': 4.5}}\n",
      "\n",
      "Users similar to Bill Duffy:\n",
      "\n",
      "[]\n"
     ]
    },
    {
     "ename": "IndexError",
     "evalue": "too many indices for array: array is 1-dimensional, but 2 were indexed",
     "output_type": "error",
     "traceback": [
      "\u001b[1;31m---------------------------------------------------------------------------\u001b[0m",
      "\u001b[1;31mIndexError\u001b[0m                                Traceback (most recent call last)",
      "Input \u001b[1;32mIn [40]\u001b[0m, in \u001b[0;36m<cell line: 8>\u001b[1;34m()\u001b[0m\n\u001b[0;32m      6\u001b[0m \u001b[38;5;28mprint\u001b[39m(ratings_data)\n\u001b[0;32m      7\u001b[0m \u001b[38;5;28mprint\u001b[39m(\u001b[38;5;124m'\u001b[39m\u001b[38;5;130;01m\\n\u001b[39;00m\u001b[38;5;124mUsers similar to \u001b[39m\u001b[38;5;124m'\u001b[39m \u001b[38;5;241m+\u001b[39m user \u001b[38;5;241m+\u001b[39m \u001b[38;5;124m'\u001b[39m\u001b[38;5;124m:\u001b[39m\u001b[38;5;130;01m\\n\u001b[39;00m\u001b[38;5;124m'\u001b[39m)\n\u001b[1;32m----> 8\u001b[0m similar_users \u001b[38;5;241m=\u001b[39m \u001b[43mfind_similar_users\u001b[49m\u001b[43m(\u001b[49m\u001b[43mratings_data\u001b[49m\u001b[43m,\u001b[49m\u001b[43muser\u001b[49m\u001b[43m,\u001b[49m\u001b[38;5;241;43m3\u001b[39;49m\u001b[43m)\u001b[49m\n\u001b[0;32m      9\u001b[0m \u001b[38;5;28mprint\u001b[39m(\u001b[38;5;124m'\u001b[39m\u001b[38;5;124mUser\u001b[39m\u001b[38;5;130;01m\\t\u001b[39;00m\u001b[38;5;130;01m\\t\u001b[39;00m\u001b[38;5;130;01m\\t\u001b[39;00m\u001b[38;5;124mSimilarity score\u001b[39m\u001b[38;5;124m'\u001b[39m)\n\u001b[0;32m     10\u001b[0m \u001b[38;5;28;01mfor\u001b[39;00m item \u001b[38;5;129;01min\u001b[39;00m similar_users:\n",
      "Input \u001b[1;32mIn [39]\u001b[0m, in \u001b[0;36mfind_similar_users\u001b[1;34m(dataset, user, num_users)\u001b[0m\n\u001b[0;32m      6\u001b[0m \u001b[38;5;28mprint\u001b[39m(scores)\n\u001b[0;32m      7\u001b[0m \u001b[38;5;66;03m#sort the scores decreasing order\u001b[39;00m\n\u001b[1;32m----> 8\u001b[0m scores_sorted \u001b[38;5;241m=\u001b[39m np\u001b[38;5;241m.\u001b[39margsort(\u001b[43mscores\u001b[49m\u001b[43m[\u001b[49m\u001b[43m:\u001b[49m\u001b[43m,\u001b[49m\u001b[38;5;241;43m1\u001b[39;49m\u001b[43m]\u001b[49m)[::\u001b[38;5;241m-\u001b[39m\u001b[38;5;241m1\u001b[39m]\n\u001b[0;32m     10\u001b[0m \u001b[38;5;66;03m#Extract the top 'num_users' scores\u001b[39;00m\n\u001b[0;32m     11\u001b[0m top_users \u001b[38;5;241m=\u001b[39m scores_sorted[:num_users]\n",
      "\u001b[1;31mIndexError\u001b[0m: too many indices for array: array is 1-dimensional, but 2 were indexed"
     ]
    }
   ],
   "source": [
    "user = str(input(\"Enter Username : \"))\n",
    "\n",
    "#load data from data/ratings.json\n",
    "with open('data/ratings.json') as file:\n",
    "    ratings_data = json.loads(file.read())\n",
    "print(ratings_data)\n",
    "print('\\nUsers similar to ' + user + ':\\n')\n",
    "similar_users = find_similar_users(ratings_data,user,3)\n",
    "print('User\\t\\t\\tSimilarity score')\n",
    "for item in similar_users:\n",
    "        print('{},\\t\\t{:.2f}'.format(item[0].item[1]))\n",
    "    "
   ]
  },
  {
   "cell_type": "code",
   "execution_count": 26,
   "id": "c1eb5345-cc0a-4dc5-b092-98e8d9429ab6",
   "metadata": {},
   "outputs": [
    {
     "data": {
      "text/plain": [
       "5"
      ]
     },
     "execution_count": 26,
     "metadata": {},
     "output_type": "execute_result"
    }
   ],
   "source": [
    "len(pd.Series({'Vertigo': 4, 'Scarface': 4.5, 'Raging Bull': 3.0, 'Goodfellas': 4.5, 'The Apartment': 1.0}).values)"
   ]
  },
  {
   "cell_type": "code",
   "execution_count": 30,
   "id": "5e4e2180-b645-49c3-8a99-2293fc597924",
   "metadata": {},
   "outputs": [
    {
     "name": "stdout",
     "output_type": "stream",
     "text": [
      "Vertigo          4.5\n",
      "Scarface         5.0\n",
      "Goodfellas       4.5\n",
      "The Apartment    1.0\n",
      "dtype: float64\n"
     ]
    }
   ],
   "source": [
    "for i in ratings_data:\n",
    "    print(pd.Series(ratings_data['Bill Duffy']))\n",
    "    break"
   ]
  },
  {
   "cell_type": "code",
   "execution_count": null,
   "id": "b7652774-e89b-4355-97ef-35929b7ae81d",
   "metadata": {},
   "outputs": [],
   "source": []
  }
 ],
 "metadata": {
  "kernelspec": {
   "display_name": "Python 3 (ipykernel)",
   "language": "python",
   "name": "python3"
  },
  "language_info": {
   "codemirror_mode": {
    "name": "ipython",
    "version": 3
   },
   "file_extension": ".py",
   "mimetype": "text/x-python",
   "name": "python",
   "nbconvert_exporter": "python",
   "pygments_lexer": "ipython3",
   "version": "3.9.12"
  }
 },
 "nbformat": 4,
 "nbformat_minor": 5
}
